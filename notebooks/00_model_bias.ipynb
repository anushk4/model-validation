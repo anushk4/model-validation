{
 "cells": [
  {
   "cell_type": "markdown",
   "metadata": {},
   "source": [
    "# Data processing\n",
    "\n",
    "In this notebook, I am loading a list of molecules I obtained from ChEMBL and processing them to make sure I have:\n",
    "- Standard SMILES representation of the compound\n",
    "- InChIKey associated to the compound"
   ]
  },
  {
   "cell_type": "code",
   "execution_count": 4,
   "metadata": {},
   "outputs": [],
   "source": [
    "# Importing the necessary packages and specify the paths to relevant folders\n",
    "import pandas as pd\n",
    "from rdkit import RDLogger\n",
    "import logging\n",
    "from os import path, remove\n",
    "\n",
    "# Disable warning messages\n",
    "logging.getLogger(\"standardiser.standardise\").setLevel(logging.ERROR)\n",
    "RDLogger.DisableLog('rdApp.error')\n",
    "RDLogger.DisableLog('rdApp.warning')"
   ]
  },
  {
   "cell_type": "code",
   "execution_count": 2,
   "metadata": {},
   "outputs": [],
   "source": [
    "# Loading the data from the /data folder to a Pandas dataframe and understand which headers it has\n",
    "data = pd.read_csv(\"../data/reference_library.csv\")"
   ]
  },
  {
   "cell_type": "code",
   "execution_count": 3,
   "metadata": {},
   "outputs": [
    {
     "data": {
      "text/html": [
       "<div>\n",
       "<style scoped>\n",
       "    .dataframe tbody tr th:only-of-type {\n",
       "        vertical-align: middle;\n",
       "    }\n",
       "\n",
       "    .dataframe tbody tr th {\n",
       "        vertical-align: top;\n",
       "    }\n",
       "\n",
       "    .dataframe thead th {\n",
       "        text-align: right;\n",
       "    }\n",
       "</style>\n",
       "<table border=\"1\" class=\"dataframe\">\n",
       "  <thead>\n",
       "    <tr style=\"text-align: right;\">\n",
       "      <th></th>\n",
       "      <th>smiles</th>\n",
       "    </tr>\n",
       "  </thead>\n",
       "  <tbody>\n",
       "    <tr>\n",
       "      <th>0</th>\n",
       "      <td>CCCCNC(=S)N/N=C/C1=C(C)C=CS1</td>\n",
       "    </tr>\n",
       "    <tr>\n",
       "      <th>1</th>\n",
       "      <td>CN1C(SCC2=NC(C3=CC=CS3)=NO2)=NN=C1C1CCCCC1</td>\n",
       "    </tr>\n",
       "    <tr>\n",
       "      <th>2</th>\n",
       "      <td>O=C(O)CC(NC(=O)C1=CN=CC=N1)C1=CC=CC=C1Cl</td>\n",
       "    </tr>\n",
       "    <tr>\n",
       "      <th>3</th>\n",
       "      <td>O=S(=O)(C1=CC=CC=C1)N1CCN(C2=NOC3=CC=CC(Cl)=C2...</td>\n",
       "    </tr>\n",
       "    <tr>\n",
       "      <th>4</th>\n",
       "      <td>CCC[C@@H](C)N(C1=CC(Cl)=CC=C1CO)S(=O)(=O)C1=CC...</td>\n",
       "    </tr>\n",
       "  </tbody>\n",
       "</table>\n",
       "</div>"
      ],
      "text/plain": [
       "                                              smiles\n",
       "0                       CCCCNC(=S)N/N=C/C1=C(C)C=CS1\n",
       "1         CN1C(SCC2=NC(C3=CC=CS3)=NO2)=NN=C1C1CCCCC1\n",
       "2           O=C(O)CC(NC(=O)C1=CN=CC=N1)C1=CC=CC=C1Cl\n",
       "3  O=S(=O)(C1=CC=CC=C1)N1CCN(C2=NOC3=CC=CC(Cl)=C2...\n",
       "4  CCC[C@@H](C)N(C1=CC(Cl)=CC=C1CO)S(=O)(=O)C1=CC..."
      ]
     },
     "execution_count": 3,
     "metadata": {},
     "output_type": "execute_result"
    }
   ],
   "source": [
    "data.head(5)"
   ]
  },
  {
   "cell_type": "code",
   "execution_count": 4,
   "metadata": {},
   "outputs": [],
   "source": [
    "# Converting the molecules to standard SMILES by using the function standardise_smiles from /src\n",
    "import sys\n",
    "sys.path.append('../src') \n",
    "\n",
    "from smiles_processing import standardise_smiles\n",
    "\n",
    "data['standardise_smiles'] = data['smiles'].apply(standardise_smiles)\n",
    "data = data.dropna(subset=['standardise_smiles'])"
   ]
  },
  {
   "cell_type": "code",
   "execution_count": 5,
   "metadata": {},
   "outputs": [
    {
     "data": {
      "text/html": [
       "<div>\n",
       "<style scoped>\n",
       "    .dataframe tbody tr th:only-of-type {\n",
       "        vertical-align: middle;\n",
       "    }\n",
       "\n",
       "    .dataframe tbody tr th {\n",
       "        vertical-align: top;\n",
       "    }\n",
       "\n",
       "    .dataframe thead th {\n",
       "        text-align: right;\n",
       "    }\n",
       "</style>\n",
       "<table border=\"1\" class=\"dataframe\">\n",
       "  <thead>\n",
       "    <tr style=\"text-align: right;\">\n",
       "      <th></th>\n",
       "      <th>smiles</th>\n",
       "      <th>standardise_smiles</th>\n",
       "    </tr>\n",
       "  </thead>\n",
       "  <tbody>\n",
       "    <tr>\n",
       "      <th>0</th>\n",
       "      <td>CCCCNC(=S)N/N=C/C1=C(C)C=CS1</td>\n",
       "      <td>CCCCNC(=S)N/N=C/c1sccc1C</td>\n",
       "    </tr>\n",
       "    <tr>\n",
       "      <th>1</th>\n",
       "      <td>CN1C(SCC2=NC(C3=CC=CS3)=NO2)=NN=C1C1CCCCC1</td>\n",
       "      <td>Cn1c(SCc2nc(-c3cccs3)no2)nnc1C1CCCCC1</td>\n",
       "    </tr>\n",
       "    <tr>\n",
       "      <th>2</th>\n",
       "      <td>O=C(O)CC(NC(=O)C1=CN=CC=N1)C1=CC=CC=C1Cl</td>\n",
       "      <td>O=C(O)CC(NC(=O)c1cnccn1)c1ccccc1Cl</td>\n",
       "    </tr>\n",
       "    <tr>\n",
       "      <th>3</th>\n",
       "      <td>O=S(=O)(C1=CC=CC=C1)N1CCN(C2=NOC3=CC=CC(Cl)=C2...</td>\n",
       "      <td>O=S(=O)(c1ccccc1)N1CCN(c2noc3cccc(Cl)c23)CC1</td>\n",
       "    </tr>\n",
       "    <tr>\n",
       "      <th>4</th>\n",
       "      <td>CCC[C@@H](C)N(C1=CC(Cl)=CC=C1CO)S(=O)(=O)C1=CC...</td>\n",
       "      <td>CCC[C@@H](C)N(c1cc(Cl)ccc1CO)S(=O)(=O)c1ccc(C)cc1</td>\n",
       "    </tr>\n",
       "  </tbody>\n",
       "</table>\n",
       "</div>"
      ],
      "text/plain": [
       "                                              smiles  \\\n",
       "0                       CCCCNC(=S)N/N=C/C1=C(C)C=CS1   \n",
       "1         CN1C(SCC2=NC(C3=CC=CS3)=NO2)=NN=C1C1CCCCC1   \n",
       "2           O=C(O)CC(NC(=O)C1=CN=CC=N1)C1=CC=CC=C1Cl   \n",
       "3  O=S(=O)(C1=CC=CC=C1)N1CCN(C2=NOC3=CC=CC(Cl)=C2...   \n",
       "4  CCC[C@@H](C)N(C1=CC(Cl)=CC=C1CO)S(=O)(=O)C1=CC...   \n",
       "\n",
       "                                  standardise_smiles  \n",
       "0                           CCCCNC(=S)N/N=C/c1sccc1C  \n",
       "1              Cn1c(SCc2nc(-c3cccs3)no2)nnc1C1CCCCC1  \n",
       "2                 O=C(O)CC(NC(=O)c1cnccn1)c1ccccc1Cl  \n",
       "3       O=S(=O)(c1ccccc1)N1CCN(c2noc3cccc(Cl)c23)CC1  \n",
       "4  CCC[C@@H](C)N(c1cc(Cl)ccc1CO)S(=O)(=O)c1ccc(C)cc1  "
      ]
     },
     "execution_count": 5,
     "metadata": {},
     "output_type": "execute_result"
    }
   ],
   "source": [
    "data.head(5)"
   ]
  },
  {
   "cell_type": "code",
   "execution_count": 6,
   "metadata": {},
   "outputs": [],
   "source": [
    "# Getting the Inchikey representation of the molecules using the RDKIT package\n",
    "from smiles_processing import smile_to_inchikey\n",
    "\n",
    "data['inchi_key'] = data['standardise_smiles'].apply(smile_to_inchikey)\n",
    "data = data.dropna(subset=['inchi_key'])"
   ]
  },
  {
   "cell_type": "code",
   "execution_count": 7,
   "metadata": {},
   "outputs": [
    {
     "data": {
      "text/html": [
       "<div>\n",
       "<style scoped>\n",
       "    .dataframe tbody tr th:only-of-type {\n",
       "        vertical-align: middle;\n",
       "    }\n",
       "\n",
       "    .dataframe tbody tr th {\n",
       "        vertical-align: top;\n",
       "    }\n",
       "\n",
       "    .dataframe thead th {\n",
       "        text-align: right;\n",
       "    }\n",
       "</style>\n",
       "<table border=\"1\" class=\"dataframe\">\n",
       "  <thead>\n",
       "    <tr style=\"text-align: right;\">\n",
       "      <th></th>\n",
       "      <th>smiles</th>\n",
       "      <th>standardise_smiles</th>\n",
       "      <th>inchi_key</th>\n",
       "    </tr>\n",
       "  </thead>\n",
       "  <tbody>\n",
       "    <tr>\n",
       "      <th>0</th>\n",
       "      <td>CCCCNC(=S)N/N=C/C1=C(C)C=CS1</td>\n",
       "      <td>CCCCNC(=S)N/N=C/c1sccc1C</td>\n",
       "      <td>SUTWUYBMBWPLMW-MDWZMJQESA-N</td>\n",
       "    </tr>\n",
       "    <tr>\n",
       "      <th>1</th>\n",
       "      <td>CN1C(SCC2=NC(C3=CC=CS3)=NO2)=NN=C1C1CCCCC1</td>\n",
       "      <td>Cn1c(SCc2nc(-c3cccs3)no2)nnc1C1CCCCC1</td>\n",
       "      <td>RIYHJWOTNJXDLV-UHFFFAOYSA-N</td>\n",
       "    </tr>\n",
       "    <tr>\n",
       "      <th>2</th>\n",
       "      <td>O=C(O)CC(NC(=O)C1=CN=CC=N1)C1=CC=CC=C1Cl</td>\n",
       "      <td>O=C(O)CC(NC(=O)c1cnccn1)c1ccccc1Cl</td>\n",
       "      <td>OGNBARHGQVMGGX-UHFFFAOYSA-N</td>\n",
       "    </tr>\n",
       "    <tr>\n",
       "      <th>3</th>\n",
       "      <td>O=S(=O)(C1=CC=CC=C1)N1CCN(C2=NOC3=CC=CC(Cl)=C2...</td>\n",
       "      <td>O=S(=O)(c1ccccc1)N1CCN(c2noc3cccc(Cl)c23)CC1</td>\n",
       "      <td>WQEXDIRUOYNDCM-UHFFFAOYSA-N</td>\n",
       "    </tr>\n",
       "    <tr>\n",
       "      <th>4</th>\n",
       "      <td>CCC[C@@H](C)N(C1=CC(Cl)=CC=C1CO)S(=O)(=O)C1=CC...</td>\n",
       "      <td>CCC[C@@H](C)N(c1cc(Cl)ccc1CO)S(=O)(=O)c1ccc(C)cc1</td>\n",
       "      <td>YEGVLLQDOGYWDQ-OAHLLOKOSA-N</td>\n",
       "    </tr>\n",
       "  </tbody>\n",
       "</table>\n",
       "</div>"
      ],
      "text/plain": [
       "                                              smiles  \\\n",
       "0                       CCCCNC(=S)N/N=C/C1=C(C)C=CS1   \n",
       "1         CN1C(SCC2=NC(C3=CC=CS3)=NO2)=NN=C1C1CCCCC1   \n",
       "2           O=C(O)CC(NC(=O)C1=CN=CC=N1)C1=CC=CC=C1Cl   \n",
       "3  O=S(=O)(C1=CC=CC=C1)N1CCN(C2=NOC3=CC=CC(Cl)=C2...   \n",
       "4  CCC[C@@H](C)N(C1=CC(Cl)=CC=C1CO)S(=O)(=O)C1=CC...   \n",
       "\n",
       "                                  standardise_smiles  \\\n",
       "0                           CCCCNC(=S)N/N=C/c1sccc1C   \n",
       "1              Cn1c(SCc2nc(-c3cccs3)no2)nnc1C1CCCCC1   \n",
       "2                 O=C(O)CC(NC(=O)c1cnccn1)c1ccccc1Cl   \n",
       "3       O=S(=O)(c1ccccc1)N1CCN(c2noc3cccc(Cl)c23)CC1   \n",
       "4  CCC[C@@H](C)N(c1cc(Cl)ccc1CO)S(=O)(=O)c1ccc(C)cc1   \n",
       "\n",
       "                     inchi_key  \n",
       "0  SUTWUYBMBWPLMW-MDWZMJQESA-N  \n",
       "1  RIYHJWOTNJXDLV-UHFFFAOYSA-N  \n",
       "2  OGNBARHGQVMGGX-UHFFFAOYSA-N  \n",
       "3  WQEXDIRUOYNDCM-UHFFFAOYSA-N  \n",
       "4  YEGVLLQDOGYWDQ-OAHLLOKOSA-N  "
      ]
     },
     "execution_count": 7,
     "metadata": {},
     "output_type": "execute_result"
    }
   ],
   "source": [
    "data.head(5)"
   ]
  },
  {
   "cell_type": "code",
   "execution_count": 8,
   "metadata": {},
   "outputs": [],
   "source": [
    "# Saving the data as a .csv file containing only the standard smiles and the inchikey as columns. \n",
    "output_file = \"../data/st_smile_inchikey.csv\"\n",
    "\n",
    "if path.exists(output_file):\n",
    "    remove(output_file)\n",
    "\n",
    "col = ['standardise_smiles', 'inchi_key']\n",
    "updated_data = pd.DataFrame(data, columns=col)\n",
    "updated_data.to_csv(\"../data/st_smile_inchikey.csv\", index = False)"
   ]
  },
  {
   "cell_type": "code",
   "execution_count": 9,
   "metadata": {},
   "outputs": [
    {
     "data": {
      "text/html": [
       "<div>\n",
       "<style scoped>\n",
       "    .dataframe tbody tr th:only-of-type {\n",
       "        vertical-align: middle;\n",
       "    }\n",
       "\n",
       "    .dataframe tbody tr th {\n",
       "        vertical-align: top;\n",
       "    }\n",
       "\n",
       "    .dataframe thead th {\n",
       "        text-align: right;\n",
       "    }\n",
       "</style>\n",
       "<table border=\"1\" class=\"dataframe\">\n",
       "  <thead>\n",
       "    <tr style=\"text-align: right;\">\n",
       "      <th></th>\n",
       "      <th>standardise_smiles</th>\n",
       "      <th>inchi_key</th>\n",
       "    </tr>\n",
       "  </thead>\n",
       "  <tbody>\n",
       "    <tr>\n",
       "      <th>0</th>\n",
       "      <td>CCCCNC(=S)N/N=C/c1sccc1C</td>\n",
       "      <td>SUTWUYBMBWPLMW-MDWZMJQESA-N</td>\n",
       "    </tr>\n",
       "    <tr>\n",
       "      <th>1</th>\n",
       "      <td>Cn1c(SCc2nc(-c3cccs3)no2)nnc1C1CCCCC1</td>\n",
       "      <td>RIYHJWOTNJXDLV-UHFFFAOYSA-N</td>\n",
       "    </tr>\n",
       "    <tr>\n",
       "      <th>2</th>\n",
       "      <td>O=C(O)CC(NC(=O)c1cnccn1)c1ccccc1Cl</td>\n",
       "      <td>OGNBARHGQVMGGX-UHFFFAOYSA-N</td>\n",
       "    </tr>\n",
       "    <tr>\n",
       "      <th>3</th>\n",
       "      <td>O=S(=O)(c1ccccc1)N1CCN(c2noc3cccc(Cl)c23)CC1</td>\n",
       "      <td>WQEXDIRUOYNDCM-UHFFFAOYSA-N</td>\n",
       "    </tr>\n",
       "    <tr>\n",
       "      <th>4</th>\n",
       "      <td>CCC[C@@H](C)N(c1cc(Cl)ccc1CO)S(=O)(=O)c1ccc(C)cc1</td>\n",
       "      <td>YEGVLLQDOGYWDQ-OAHLLOKOSA-N</td>\n",
       "    </tr>\n",
       "  </tbody>\n",
       "</table>\n",
       "</div>"
      ],
      "text/plain": [
       "                                  standardise_smiles  \\\n",
       "0                           CCCCNC(=S)N/N=C/c1sccc1C   \n",
       "1              Cn1c(SCc2nc(-c3cccs3)no2)nnc1C1CCCCC1   \n",
       "2                 O=C(O)CC(NC(=O)c1cnccn1)c1ccccc1Cl   \n",
       "3       O=S(=O)(c1ccccc1)N1CCN(c2noc3cccc(Cl)c23)CC1   \n",
       "4  CCC[C@@H](C)N(c1cc(Cl)ccc1CO)S(=O)(=O)c1ccc(C)cc1   \n",
       "\n",
       "                     inchi_key  \n",
       "0  SUTWUYBMBWPLMW-MDWZMJQESA-N  \n",
       "1  RIYHJWOTNJXDLV-UHFFFAOYSA-N  \n",
       "2  OGNBARHGQVMGGX-UHFFFAOYSA-N  \n",
       "3  WQEXDIRUOYNDCM-UHFFFAOYSA-N  \n",
       "4  YEGVLLQDOGYWDQ-OAHLLOKOSA-N  "
      ]
     },
     "execution_count": 9,
     "metadata": {},
     "output_type": "execute_result"
    }
   ],
   "source": [
    "#Checking the data\n",
    "df = pd.read_csv(\"../data/st_smile_inchikey.csv\")\n",
    "df.head(5)"
   ]
  },
  {
   "cell_type": "markdown",
   "metadata": {},
   "source": [
    "# Model Bias Evaluation\n",
    "\n",
    "Now, I will use the predictions I got from the Ersilia Model Hub on the dataset of 1000 molecules curated above and see how are they distributed in their space (which might be 0 to 1 for probabilities, or different for regression models)"
   ]
  },
  {
   "cell_type": "code",
   "execution_count": 16,
   "metadata": {},
   "outputs": [
    {
     "name": "stdout",
     "output_type": "stream",
     "text": [
      "Requested model eos30gr is not available locally. Do you want to fetch it? [Y/n]\n"
     ]
    },
    {
     "name": "stderr",
     "output_type": "stream",
     "text": [
      "sudo: unknown user udockerusername\n",
      "sudo: error initializing audit plugin sudoers_audit\n",
      "sudo: unknown user udockerusername\n",
      "sudo: error initializing audit plugin sudoers_audit\n"
     ]
    },
    {
     "name": "stdout",
     "output_type": "stream",
     "text": [
      "[]\n"
     ]
    },
    {
     "name": "stderr",
     "output_type": "stream",
     "text": [
      "sudo: unknown user udockerusername\n",
      "sudo: error initializing audit plugin sudoers_audit\n",
      "sudo: unknown user udockerusername\n",
      "sudo: error initializing audit plugin sudoers_audit\n",
      "sudo: unknown user udockerusername\n",
      "sudo: error initializing audit plugin sudoers_audit\n"
     ]
    },
    {
     "name": "stdout",
     "output_type": "stream",
     "text": [
      "🚀 Serving model eos30gr: deepherg\n",
      "\n",
      "   URL: http://127.0.0.1:35341\n",
      "   PID: 43098\n",
      "   SRV: conda\n",
      "\n",
      "👉 To run model:\n",
      "   - run\n",
      "\n",
      "💁 Information:\n",
      "   - info\n"
     ]
    },
    {
     "name": "stderr",
     "output_type": "stream",
     "text": [
      "sudo: unknown user udockerusername\n",
      "sudo: error initializing audit plugin sudoers_audit\n"
     ]
    },
    {
     "name": "stdout",
     "output_type": "stream",
     "text": [
      "⛔ Model eos30gr closed\n",
      "Model fetched. Time taken: 146.35254907608032\n"
     ]
    }
   ],
   "source": [
    "# Loading the predictions ran on Ersilia from data saved in the /data folder\n",
    "import time\n",
    "from ersilia import ErsiliaModel\n",
    "\n",
    "# Fetching and serving the model\n",
    "model_name = \"eos30gr\" #deepherg\n",
    "start = time.time()\n",
    "mdl = ErsiliaModel(model_name)\n",
    "end = time.time()\n",
    "print(\"Model fetched. Time taken:\", end - start)"
   ]
  },
  {
   "cell_type": "code",
   "execution_count": 17,
   "metadata": {},
   "outputs": [
    {
     "name": "stderr",
     "output_type": "stream",
     "text": [
      "sudo: unknown user udockerusername\n",
      "sudo: error initializing audit plugin sudoers_audit\n",
      "sudo: unknown user udockerusername\n",
      "sudo: error initializing audit plugin sudoers_audit\n"
     ]
    },
    {
     "name": "stdout",
     "output_type": "stream",
     "text": [
      "Predictions calculated. Time taken: 1068.2504601478577\n"
     ]
    },
    {
     "name": "stderr",
     "output_type": "stream",
     "text": [
      "sudo: unknown user udockerusername\n",
      "sudo: error initializing audit plugin sudoers_audit\n"
     ]
    }
   ],
   "source": [
    "# Running the predictions\n",
    "\n",
    "mdl.serve()\n",
    "start = time.time()\n",
    "st_smiles = list(data['standardise_smiles'])\n",
    "output = mdl.run(st_smiles, output = \"pandas\")\n",
    "end = time.time()\n",
    "print(\"Predictions calculated. Time taken:\", end - start)\n",
    "mdl.close()"
   ]
  },
  {
   "cell_type": "code",
   "execution_count": 39,
   "metadata": {},
   "outputs": [
    {
     "data": {
      "text/html": [
       "<div>\n",
       "<style scoped>\n",
       "    .dataframe tbody tr th:only-of-type {\n",
       "        vertical-align: middle;\n",
       "    }\n",
       "\n",
       "    .dataframe tbody tr th {\n",
       "        vertical-align: top;\n",
       "    }\n",
       "\n",
       "    .dataframe thead th {\n",
       "        text-align: right;\n",
       "    }\n",
       "</style>\n",
       "<table border=\"1\" class=\"dataframe\">\n",
       "  <thead>\n",
       "    <tr style=\"text-align: right;\">\n",
       "      <th></th>\n",
       "      <th>key</th>\n",
       "      <th>input</th>\n",
       "      <th>activity10</th>\n",
       "    </tr>\n",
       "  </thead>\n",
       "  <tbody>\n",
       "    <tr>\n",
       "      <th>0</th>\n",
       "      <td>SUTWUYBMBWPLMW-MDWZMJQESA-N</td>\n",
       "      <td>CCCCNC(=S)N/N=C/c1sccc1C</td>\n",
       "      <td>0.347112</td>\n",
       "    </tr>\n",
       "    <tr>\n",
       "      <th>1</th>\n",
       "      <td>RIYHJWOTNJXDLV-UHFFFAOYSA-N</td>\n",
       "      <td>Cn1c(SCc2nc(-c3cccs3)no2)nnc1C1CCCCC1</td>\n",
       "      <td>0.547030</td>\n",
       "    </tr>\n",
       "    <tr>\n",
       "      <th>2</th>\n",
       "      <td>OGNBARHGQVMGGX-UHFFFAOYSA-N</td>\n",
       "      <td>O=C(O)CC(NC(=O)c1cnccn1)c1ccccc1Cl</td>\n",
       "      <td>0.178218</td>\n",
       "    </tr>\n",
       "    <tr>\n",
       "      <th>3</th>\n",
       "      <td>WQEXDIRUOYNDCM-UHFFFAOYSA-N</td>\n",
       "      <td>O=S(=O)(c1ccccc1)N1CCN(c2noc3cccc(Cl)c23)CC1</td>\n",
       "      <td>0.620462</td>\n",
       "    </tr>\n",
       "    <tr>\n",
       "      <th>4</th>\n",
       "      <td>YEGVLLQDOGYWDQ-OAHLLOKOSA-N</td>\n",
       "      <td>CCC[C@@H](C)N(c1cc(Cl)ccc1CO)S(=O)(=O)c1ccc(C)cc1</td>\n",
       "      <td>0.623267</td>\n",
       "    </tr>\n",
       "  </tbody>\n",
       "</table>\n",
       "</div>"
      ],
      "text/plain": [
       "                           key  \\\n",
       "0  SUTWUYBMBWPLMW-MDWZMJQESA-N   \n",
       "1  RIYHJWOTNJXDLV-UHFFFAOYSA-N   \n",
       "2  OGNBARHGQVMGGX-UHFFFAOYSA-N   \n",
       "3  WQEXDIRUOYNDCM-UHFFFAOYSA-N   \n",
       "4  YEGVLLQDOGYWDQ-OAHLLOKOSA-N   \n",
       "\n",
       "                                               input  activity10  \n",
       "0                           CCCCNC(=S)N/N=C/c1sccc1C    0.347112  \n",
       "1              Cn1c(SCc2nc(-c3cccs3)no2)nnc1C1CCCCC1    0.547030  \n",
       "2                 O=C(O)CC(NC(=O)c1cnccn1)c1ccccc1Cl    0.178218  \n",
       "3       O=S(=O)(c1ccccc1)N1CCN(c2noc3cccc(Cl)c23)CC1    0.620462  \n",
       "4  CCC[C@@H](C)N(c1cc(Cl)ccc1CO)S(=O)(=O)c1ccc(C)cc1    0.623267  "
      ]
     },
     "execution_count": 39,
     "metadata": {},
     "output_type": "execute_result"
    }
   ],
   "source": [
    "output.to_csv(\"../data/output_eos30gr.csv\", index=False)\n",
    "output.head(5)"
   ]
  },
  {
   "cell_type": "code",
   "execution_count": 7,
   "metadata": {},
   "outputs": [
    {
     "data": {
      "image/png": "[encoded data removed]",
      "text/plain": [
       "<Figure size 800x600 with 1 Axes>"
      ]
     },
     "metadata": {},
     "output_type": "display_data"
    }
   ],
   "source": [
    "# Plots to observe the distribution of predicted values\n",
    "import matplotlib.pyplot as plt\n",
    "\n",
    "predicted_values = output['activity10']\n",
    "# Create a histogram\n",
    "plt.figure(figsize=(8, 6))\n",
    "plt.hist(predicted_values, bins=10, color='pink', edgecolor='black')\n",
    "plt.title('Distribution of Predicted Values')\n",
    "plt.xlabel('Predicted Value')\n",
    "plt.ylabel('Frequency')\n",
    "plt.grid(True)\n",
    "plt.savefig('../plots/predicted_values_histogram.png')\n",
    "plt.show()"
   ]
  },
  {
   "cell_type": "markdown",
   "metadata": {},
   "source": [
    "From the above generated histogram, we see a relation between the number of compounds and their probability that they are a hERG blocker or not. The probabilities range from a value of 0 to 1. We notice that most of the compounds are concentrated in the range 0.25 - 0.60, indicating that majority of the compounds from our dataset has a probability of 25% - 60% of being a hERG blocker. About 28 compounds have low probability of being a hERG blocker and about 20 compounds have a high probability of being a hERG blocker."
   ]
  },
  {
   "cell_type": "code",
   "execution_count": 10,
   "metadata": {},
   "outputs": [
    {
     "data": {
      "image/png": "[encoded data removed]",
      "text/plain": [
       "<Figure size 800x600 with 1 Axes>"
      ]
     },
     "metadata": {},
     "output_type": "display_data"
    }
   ],
   "source": [
    "import seaborn as sns\n",
    "\n",
    "plt.figure(figsize=(8, 6))\n",
    "sns.kdeplot(predicted_values, color='orange', fill=True)\n",
    "plt.title('Kernel Density Estimate (KDE) Plot of Predicted Values')\n",
    "plt.xlabel('Predicted Value')\n",
    "plt.ylabel('Density')\n",
    "plt.savefig('../plots/predicted_values_kde.png')\n",
    "plt.grid(True)\n",
    "plt.show()"
   ]
  },
  {
   "cell_type": "markdown",
   "metadata": {},
   "source": [
    "The above Kernel Density Estimate (KDE) Plot is a graph of the PDF, that is the Probability Density Function. We can see the similar result as we saw from the histogram. The compounds which have are in the range 0.25 - 0.6 have maximum density that is, most of the compounds have a 25% - 60% chance of being a hERG blocker."
   ]
  }
 ],
 "metadata": {
  "kernelspec": {
   "display_name": "ersilia",
   "language": "python",
   "name": "ersilia"
  },
  "language_info": {
   "codemirror_mode": {
    "name": "ipython",
    "version": 3
   },
   "file_extension": ".py",
   "mimetype": "text/x-python",
   "name": "python",
   "nbconvert_exporter": "python",
   "pygments_lexer": "ipython3",
   "version": "3.7.12"
  }
 },
 "nbformat": 4,
 "nbformat_minor": 2
}
